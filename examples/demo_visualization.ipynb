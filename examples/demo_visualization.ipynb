{
 "cells": [
  {
   "cell_type": "markdown",
   "metadata": {},
   "source": [
    "# Demo on visualization\n",
    "- plotting error masks\n",
    "- plotting lineage\n",
    "- stetching fluorescent video "
   ]
  },
  {
   "cell_type": "code",
   "execution_count": 1,
   "metadata": {},
   "outputs": [],
   "source": [
    "import sys\n",
    "import os\n",
    "\n",
    "# Append the directory of the module to the Python path\n",
    "sys.path.append(\"/Users/sherryyang/Projects/super-segger-toolkit/superseggertoolkit\")"
   ]
  },
  {
   "cell_type": "code",
   "execution_count": 2,
   "metadata": {},
   "outputs": [],
   "source": [
    "from cell import Cell\n",
    "import cells_extractor \n",
    "import visualizer\n",
    "from cell_event import CellEvent, CellDefine, CellType\n",
    "from link_composer import LinkComposer"
   ]
  },
  {
   "cell_type": "code",
   "execution_count": 3,
   "metadata": {},
   "outputs": [],
   "source": [
    "import numpy as np\n",
    "import matplotlib.pyplot as plt\n",
    "import math\n",
    "from matplotlib.colors import ListedColormap\n",
    "from PIL import Image\n",
    "import string\n",
    "import cv2\n",
    "import os\n",
    "import matplotlib.patches as patches\n",
    "import glob\n",
    "import networkx as nx"
   ]
  },
  {
   "cell_type": "markdown",
   "metadata": {},
   "source": [
    "**Plotting error mask**"
   ]
  },
  {
   "cell_type": "code",
   "execution_count": 4,
   "metadata": {},
   "outputs": [
    {
     "name": "stdout",
     "output_type": "stream",
     "text": [
      "Frame:7, Mask label:1. Pixels number = 2. cannot make polygon. A linearring requires at least 4 coordinates.\n",
      "Frame:11, Mask label:46. Pixels number = 1. cannot make polygon. A linearring requires at least 4 coordinates.\n",
      "Frame:13, Mask label:1. Pixels number = 1. cannot make polygon. A linearring requires at least 4 coordinates.\n",
      "Frame:22, Mask label:26. Pixels number = 2. cannot make polygon. A linearring requires at least 4 coordinates.\n"
     ]
    }
   ],
   "source": [
    "mask_folder = \"/Users/sherryyang/Documents/wiggins-lab/data/f/masks/*.png\"\n",
    "phase_folder = \"/Users/sherryyang/Documents/wiggins-lab/data/f/phase/*c1.tif\"\n",
    "composer = LinkComposer.read_folder(mask_folder=mask_folder, phase_folder=phase_folder)"
   ]
  },
  {
   "cell_type": "code",
   "execution_count": 5,
   "metadata": {},
   "outputs": [
    {
     "data": {
      "image/png": "[encoded data removed]",
      "text/plain": [
       "<Figure size 1500x300 with 5 Axes>"
      ]
     },
     "metadata": {},
     "output_type": "display_data"
    }
   ],
   "source": [
    "composer.show_mask_error()"
   ]
  },
  {
   "cell_type": "code",
   "execution_count": null,
   "metadata": {},
   "outputs": [],
   "source": []
  },
  {
   "cell_type": "code",
   "execution_count": null,
   "metadata": {},
   "outputs": [],
   "source": [
    "import matplotlib.pyplot as plt\n",
    "import matplotlib.gridspec as gridspec\n",
    "import cv2\n",
    "import os\n",
    "import glob\n",
    "\n",
    "def make_single_thread_visualization(base_dir, Glist, frame, circle_label=False, representative_point=False):\n",
    "    \n",
    "    video_dir = os.path.join(base_dir, \"video\")\n",
    "    os.makedirs(video_dir, exist_ok=True)\n",
    "\n",
    "    \n",
    "    filename = \"*.tif\"\n",
    "    file_path = os.path.join(base_dir, filename)\n",
    "    files = glob.glob(file_path)\n",
    "    files.sort()\n",
    "\n",
    "    n_cases = len(Glist)\n",
    "    G_index = sorted(Glist)\n",
    "\n",
    "    tag_dic, info_dic, pos_dic = {}, {}, {}\n",
    "    for name, G in Glist.items():\n",
    "        tag_dic[name] = visualizer.tag_type(G)\n",
    "        info_dic[name] = visualizer.get_label_info(G)\n",
    "        pos_dic[name] = visualizer.get_lineage_pos(G)\n",
    "\n",
    "    # Master figure setup\n",
    "    fig = plt.figure(figsize=(8 * n_cases, 10))  # Adjust the size as needed\n",
    "    plt.axis('off')\n",
    "    gs = gridspec.GridSpec(2, n_cases, height_ratios=[1, 5])  # 2 rows, n_cases columns\n",
    "    composer = LinkComposer(Glist[G_index[1]])\n",
    "\n",
    "    #gs = gridspec.GridSpec(2, 1, height_ratios=[1, 5]) \n",
    "\n",
    "    file = files[frame]\n",
    "    image = cv2.imread(file)\n",
    "    image = cv2.cvtColor(image, cv2.COLOR_BGR2RGB)\n",
    "    output_path = os.path.join(video_dir, f\"frame{frame:05d}.png\")\n",
    "    for i in range(len(G_index)):\n",
    "        name = G_index[i]\n",
    "        G = Glist[name]\n",
    "        \n",
    "        tag = tag_dic[name]\n",
    "        info = info_dic[name]\n",
    "        pos = pos_dic[name]\n",
    "\n",
    "        # First subplot for the lineage\n",
    "        cell_s, edge_s, pos_even = visualizer.get_lineage_info_for_single_frame(G, frame, tag)\n",
    "       \n",
    "        ax2 = fig.add_subplot(gs[0, i])\n",
    "        ax2 = sub_plot_lineage(ax2, G, pos, with_background=False, nodes_special=cell_s, edges_special=edge_s, arrow=True, show_stat=False)\n",
    "        ax2.set_frame_on(False)\n",
    "        ax1.set_axis_off() \n",
    "\n",
    "        # Second subplot for fluorescent image\n",
    "        ax1 = fig.add_subplot(gs[1, i])\n",
    "        ax1.imshow(image)\n",
    "        ax1 = visualizer.get_single_frame_visualization(ax1, image, composer.cells_frame_dict, info, frame, circle_label, representative_point)\n",
    "        ax1.set_axis_off() \n",
    "        ax1.set_title(name) \n",
    "\n",
    "    #plt.tight_layout()\n",
    "    #plt.show()\n",
    "    plt.savefig(output_path, bbox_inches='tight', pad_inches=0, transparent=False)"
   ]
  },
  {
   "cell_type": "code",
   "execution_count": null,
   "metadata": {},
   "outputs": [],
   "source": [
    "import os\n",
    "import glob\n",
    "\n",
    "def delete_frames(input_directory, keep_every_nth_frame=5):\n",
    "    \"\"\"\n",
    "    Delete frames in a sequence of TIFF images, keeping every nth frame.\n",
    "\n",
    "    Args:\n",
    "    input_directory (str): Directory containing TIFF images.\n",
    "    keep_every_nth_frame (int): The interval of frames to keep (default is every 5th frame).\n",
    "    \"\"\"\n",
    "    # List all TIFF images in the directory\n",
    "    tiff_files = sorted(glob.glob(os.path.join(input_directory, \"*.tif\")))\n",
    "\n",
    "    # Iterate through the files and delete as per the specified interval\n",
    "    for i, file in enumerate(tiff_files):\n",
    "        if (i % keep_every_nth_frame) != 0:  # If not a frame to keep, delete it\n",
    "            os.remove(file)\n",
    "            print(f\"Deleted: {file}\")\n",
    "\n",
    "# Example usage\n",
    "# Note: Replace 'your_directory_path' with the path to your directory containing TIFF images\n",
    "# delete_frames('your_directory_path') \n",
    "\n"
   ]
  },
  {
   "cell_type": "code",
   "execution_count": null,
   "metadata": {},
   "outputs": [],
   "source": [
    "from PIL import Image\n",
    "\n",
    "def keep_every_nth_frame(input_tif_path, output_tif_path, nth_frame=5):\n",
    "    \"\"\"\n",
    "    Keep every nth frame in a multi-frame TIFF file.\n",
    "\n",
    "    Args:\n",
    "    input_tif_path (str): Path to the input multi-frame TIFF file.\n",
    "    output_tif_path (str): Path for the output multi-frame TIFF file with reduced frames.\n",
    "    nth_frame (int): The interval of frames to keep (default is every 5th frame).\n",
    "    \"\"\"\n",
    "    with Image.open(input_tif_path) as img:\n",
    "        frames_to_keep = []\n",
    "        \n",
    "        for i in range(0, img.n_frames, nth_frame):\n",
    "            img.seek(i)\n",
    "            frames_to_keep.append(img.copy())\n",
    "\n",
    "        frames_to_keep[0].save(output_tif_path, save_all=True, append_images=frames_to_keep[1:])\n",
    "\n",
    "# Example usage\n",
    "# Note: Replace 'input.tif' and 'output.tif' with your input and output file paths\n",
    "# keep_every_nth_frame('input.tif', 'output.tif')\n"
   ]
  },
  {
   "cell_type": "code",
   "execution_count": null,
   "metadata": {},
   "outputs": [],
   "source": [
    "input_tif_path = \"/Users/sherryyang/Documents/wiggins-lab/kevins-data/0_5_phase_align.tif\"\n",
    "output_tif_path =  \"/Users/sherryyang/Documents/wiggins-lab/kevins-data/phase.tif\"\n",
    "keep_every_nth_frame(input_tif_path, output_tif_path, nth_frame=5)"
   ]
  },
  {
   "cell_type": "code",
   "execution_count": null,
   "metadata": {},
   "outputs": [],
   "source": []
  }
 ],
 "metadata": {
  "kernelspec": {
   "display_name": "omnipose",
   "language": "python",
   "name": "python3"
  },
  "language_info": {
   "codemirror_mode": {
    "name": "ipython",
    "version": 3
   },
   "file_extension": ".py",
   "mimetype": "text/x-python",
   "name": "python",
   "nbconvert_exporter": "python",
   "pygments_lexer": "ipython3",
   "version": "3.10.12"
  },
  "orig_nbformat": 4
 },
 "nbformat": 4,
 "nbformat_minor": 2
}
